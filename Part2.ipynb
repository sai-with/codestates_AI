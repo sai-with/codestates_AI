{
  "cells": [
    {
      "cell_type": "markdown",
      "metadata": {
        "id": "view-in-github",
        "colab_type": "text"
      },
      "source": [
        "<a href=\"https://colab.research.google.com/github/sai-with/codestates_AI/blob/main/Part2.ipynb\" target=\"_parent\"><img src=\"https://colab.research.google.com/assets/colab-badge.svg\" alt=\"Open In Colab\"/></a>"
      ]
    },
    {
      "cell_type": "markdown",
      "id": "a837fc88",
      "metadata": {
        "id": "a837fc88"
      },
      "source": [
        "# 확인하세요!\n",
        "\n",
        "### 제출 전에 모든 코드가 순차적으로 잘 작동하는지 확인하세요. \n",
        "- **커널을 다시 시작**한 다음(메뉴바에서 Kernel$\\rightarrow$Restart 선택) **모든 셀을 실행**해 보세요(메뉴바에서 Cell$\\rightarrow$Run All 선택).\n",
        "\n",
        "### 지정 셀의 지정 영역에서만 코드를 작성했는지 확인하세요.\n",
        "- `YOUR CODE HERE`이 적혀 있는 셀에 대한 코드만 채점에 반영됩니다.\n",
        "- `YOUR CODE HERE` ~ `YOUR CODE ENDS HERE` 사이에 본인의 코드를 작성하세요.\n",
        "- 지정 셀 이외에 본인이 코드 실행 결과를 확인하기 위한 용도로 셀을 추가해도 됩니다.\n",
        "    - **제출 시 지정 셀에서는 정답 이외에 결과 확인을 위한 코드 등은 제거하고 제출해 주세요!**\n",
        "    - **기존 셀을 삭제하지 마세요! 채점에 불이익이 있을 수 있습니다.**\n",
        "\n",
        "### 제출 방법\n",
        "- 시간 내에 문제를 풀고, 본인의 github repo에 push 하세요.\n",
        "    - **디렉토리 구조가 변하면 안 됩니다.** `codestates/ds-sc2xx`와 디렉토리 구조가 동일해야 합니다. 답안 파일의 이름을 변경하지 않았는지, 기존에 없던 폴더가 추가되지 않았는지 등을 확인하세요.\n",
        "    - **코드스테이츠 가입 시 연동한 github 계정을 사용해야 합니다.**\n",
        "    - **branch를 변경하여 작업하지 마세요.**\n",
        "        - `master` branch에의 제출 사항에 대해서만 평가합니다.\n",
        "        - 본인의 github repo `master` branch에 제출이 잘 되어 있는지 확인하세요."
      ]
    },
    {
      "cell_type": "markdown",
      "id": "3fa0a078",
      "metadata": {
        "id": "3fa0a078"
      },
      "source": [
        "---"
      ]
    },
    {
      "cell_type": "markdown",
      "id": "c935ee08",
      "metadata": {
        "id": "c935ee08"
      },
      "source": [
        "# Part 2. 곱셈과 나눗셈"
      ]
    },
    {
      "cell_type": "markdown",
      "id": "017dc967",
      "metadata": {
        "id": "017dc967"
      },
      "source": [
        "## 2.1. 주어진 두 정수에 대한 곱셈 연산을 구현하는 함수 `mul`를 완성하세요."
      ]
    },
    {
      "cell_type": "code",
      "execution_count": 1,
      "id": "3da2524f",
      "metadata": {
        "deletable": false,
        "nbgrader": {
          "cell_type": "code",
          "checksum": "80be994cf27e83f6993d22a20d88ea75",
          "grade": false,
          "grade_id": "2-1",
          "locked": false,
          "schema_version": 3,
          "solution": true,
          "task": false
        },
        "id": "3da2524f"
      },
      "outputs": [],
      "source": [
        "def mul(a, b):\n",
        "    c = 0\n",
        "    # YOUR CODE HERE\n",
        "    \n",
        "    c = a * b\n",
        "    # YOUR CODE ENDS HERE\n",
        "    return c"
      ]
    },
    {
      "cell_type": "code",
      "execution_count": 2,
      "id": "6ef66407",
      "metadata": {
        "deletable": false,
        "editable": false,
        "nbgrader": {
          "cell_type": "code",
          "checksum": "203b0b9745796474ed63f7391fd926b2",
          "grade": true,
          "grade_id": "2-1_test",
          "locked": true,
          "points": 1,
          "schema_version": 3,
          "solution": false,
          "task": false
        },
        "id": "6ef66407",
        "colab": {
          "base_uri": "https://localhost:8080/"
        },
        "outputId": "87bcc82f-9d29-42f2-c097-4abec9f678cd"
      },
      "outputs": [
        {
          "output_type": "stream",
          "name": "stdout",
          "text": [
            "2 x 4 = 8\n"
          ]
        }
      ],
      "source": [
        "print('2 x 4 =', mul(2, 4))"
      ]
    },
    {
      "cell_type": "markdown",
      "id": "a922ca70",
      "metadata": {
        "id": "a922ca70"
      },
      "source": [
        "## 2.2. 주어진 두 정수에 대한 나눗셈 연산을 구현하는 함수 `div`를 완성하세요.\n",
        "- a를 b로 나눕니다. \n",
        "- (도전과제) 나누는 수 b가 0일 때는 None을 반환하세요."
      ]
    },
    {
      "cell_type": "code",
      "execution_count": 3,
      "id": "bf3c78cc",
      "metadata": {
        "deletable": false,
        "nbgrader": {
          "cell_type": "code",
          "checksum": "5270655fea92b1e02b0ebb88c7ebc740",
          "grade": false,
          "grade_id": "2-2",
          "locked": false,
          "schema_version": 3,
          "solution": true,
          "task": false
        },
        "id": "bf3c78cc"
      },
      "outputs": [],
      "source": [
        "def div(a, b):\n",
        "    c = 0\n",
        "    # YOUR CODE HERE\n",
        "    if b != 0:\n",
        "      c = a / b    \n",
        "      return c\n",
        "    else:\n",
        "      return None\n",
        "    # YOUR CODE ENDS HERE"
      ]
    },
    {
      "cell_type": "code",
      "execution_count": 4,
      "id": "b136062c",
      "metadata": {
        "deletable": false,
        "editable": false,
        "nbgrader": {
          "cell_type": "code",
          "checksum": "62be35087bff772d83cae6d4219cbba9",
          "grade": true,
          "grade_id": "2-2_test",
          "locked": true,
          "points": 1,
          "schema_version": 3,
          "solution": false,
          "task": false
        },
        "id": "b136062c",
        "colab": {
          "base_uri": "https://localhost:8080/"
        },
        "outputId": "e1698dab-7264-4db2-8d4e-c7ec1b35a021"
      },
      "outputs": [
        {
          "output_type": "stream",
          "name": "stdout",
          "text": [
            "8 / 2 = 4.0\n"
          ]
        }
      ],
      "source": [
        "print('8 / 2 =', div(8, 2))"
      ]
    },
    {
      "cell_type": "code",
      "execution_count": 5,
      "id": "0f9839d6",
      "metadata": {
        "deletable": false,
        "editable": false,
        "nbgrader": {
          "cell_type": "code",
          "checksum": "506405bf0ad91d4283517407478d1180",
          "grade": true,
          "grade_id": "challenge_2-2_test",
          "locked": true,
          "points": 1,
          "schema_version": 3,
          "solution": false,
          "task": false
        },
        "id": "0f9839d6",
        "colab": {
          "base_uri": "https://localhost:8080/"
        },
        "outputId": "bcf504c1-d7e8-40b3-998c-5a8b3c43c4f3"
      },
      "outputs": [
        {
          "output_type": "stream",
          "name": "stdout",
          "text": [
            "2 / 8 = 0.25\n"
          ]
        }
      ],
      "source": [
        "print('2 / 8 =', div(2, 8))"
      ]
    },
    {
      "cell_type": "markdown",
      "id": "f7baf2c6",
      "metadata": {
        "id": "f7baf2c6"
      },
      "source": [
        "---"
      ]
    },
    {
      "cell_type": "markdown",
      "id": "fe72160c",
      "metadata": {
        "id": "fe72160c"
      },
      "source": [
        "# 수고하셨습니다!"
      ]
    }
  ],
  "metadata": {
    "kernelspec": {
      "display_name": "Python 3 (ipykernel)",
      "language": "python",
      "name": "python3"
    },
    "language_info": {
      "codemirror_mode": {
        "name": "ipython",
        "version": 3
      },
      "file_extension": ".py",
      "mimetype": "text/x-python",
      "name": "python",
      "nbconvert_exporter": "python",
      "pygments_lexer": "ipython3",
      "version": "3.8.9"
    },
    "colab": {
      "provenance": [],
      "include_colab_link": true
    }
  },
  "nbformat": 4,
  "nbformat_minor": 5
}